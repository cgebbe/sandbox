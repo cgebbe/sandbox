{
 "cells": [
  {
   "cell_type": "code",
   "execution_count": null,
   "id": "1e06ed77-46b2-464c-bc49-ebb6abe75cc8",
   "metadata": {
    "scrolled": true,
    "tags": []
   },
   "outputs": [],
   "source": [
    "# Use docker image: jupyter/datascience-notebook"
   ]
  },
  {
   "cell_type": "code",
   "execution_count": null,
   "id": "77db0a3f-dc63-4d4a-bd41-eafe492b955c",
   "metadata": {
    "scrolled": true,
    "tags": []
   },
   "outputs": [],
   "source": [
    "!pip install geopandas"
   ]
  },
  {
   "cell_type": "code",
   "execution_count": 8,
   "id": "824e549c-5314-441f-93bd-760c2b6b87e8",
   "metadata": {
    "scrolled": true,
    "tags": []
   },
   "outputs": [],
   "source": [
    "import geopandas as gpd"
   ]
  },
  {
   "cell_type": "code",
   "execution_count": 1,
   "id": "8c4bbc00-5ebf-4f0a-960f-e5a13ddc9b8b",
   "metadata": {
    "scrolled": true
   },
   "outputs": [
    {
     "name": "stdout",
     "output_type": "stream",
     "text": [
      "Collecting joblib\n",
      "  Downloading joblib-1.2.0-py3-none-any.whl (297 kB)\n",
      "\u001b[2K     \u001b[90m━━━━━━━━━━━━━━━━━━━━━━━━━━━━━━━━━━━━━━━\u001b[0m \u001b[32m298.0/298.0 kB\u001b[0m \u001b[31m4.7 MB/s\u001b[0m eta \u001b[36m0:00:00\u001b[0ma \u001b[36m0:00:01\u001b[0m\n",
      "\u001b[?25hInstalling collected packages: joblib\n",
      "Successfully installed joblib-1.2.0\n"
     ]
    }
   ],
   "source": [
    "!pip install joblib"
   ]
  },
  {
   "cell_type": "code",
   "execution_count": 2,
   "id": "0e159ce5-0bbc-485d-8ec5-5259313ab6d0",
   "metadata": {
    "scrolled": true,
    "tags": []
   },
   "outputs": [],
   "source": [
    "import joblib"
   ]
  },
  {
   "cell_type": "code",
   "execution_count": 3,
   "id": "70bb34f7-72b3-4133-a1ef-b5169f2fda85",
   "metadata": {
    "scrolled": true,
    "tags": []
   },
   "outputs": [],
   "source": [
    "mem=joblib.memory.Memory(location=\"cache\", backend=\"local\", verbose=3, bytes_limit=100e6)"
   ]
  },
  {
   "cell_type": "code",
   "execution_count": 4,
   "id": "dfabfdc2-a817-4523-8401-0cc6b7815676",
   "metadata": {
    "tags": []
   },
   "outputs": [
    {
     "data": {
      "text/plain": [
       "[]"
      ]
     },
     "execution_count": 4,
     "metadata": {},
     "output_type": "execute_result"
    }
   ],
   "source": [
    "mem.store_backend.get_items()"
   ]
  },
  {
   "cell_type": "code",
   "execution_count": 5,
   "id": "ca1f2d06-f6ee-4a3a-8449-90f7f8ece07c",
   "metadata": {
    "scrolled": true,
    "tags": []
   },
   "outputs": [],
   "source": [
    "@mem.cache\n",
    "def get_gdf(name: str):\n",
    "    return gpd.read_file(gpd.datasets.get_path('nybb'))\n"
   ]
  },
  {
   "cell_type": "code",
   "execution_count": 6,
   "id": "7b31bce1-0329-4087-9778-047167ab0eba",
   "metadata": {
    "tags": []
   },
   "outputs": [
    {
     "data": {
      "text/plain": [
       "'hello'"
      ]
     },
     "execution_count": 6,
     "metadata": {},
     "output_type": "execute_result"
    }
   ],
   "source": [
    "def hello():\n",
    "    return gpd.read_file(gpd.datasets.get_path('nybb'))\n",
    "\n",
    "hello.__code__.co_name"
   ]
  },
  {
   "cell_type": "code",
   "execution_count": 11,
   "id": "25535bfd-da29-4ef7-a532-d2f78814bc80",
   "metadata": {
    "scrolled": true,
    "tags": []
   },
   "outputs": [
    {
     "name": "stdout",
     "output_type": "stream",
     "text": [
      "[Memory]23.9s, 0.4min   : Loading get_gdf...\n"
     ]
    },
    {
     "data": {
      "text/html": [
       "<div>\n",
       "<style scoped>\n",
       "    .dataframe tbody tr th:only-of-type {\n",
       "        vertical-align: middle;\n",
       "    }\n",
       "\n",
       "    .dataframe tbody tr th {\n",
       "        vertical-align: top;\n",
       "    }\n",
       "\n",
       "    .dataframe thead th {\n",
       "        text-align: right;\n",
       "    }\n",
       "</style>\n",
       "<table border=\"1\" class=\"dataframe\">\n",
       "  <thead>\n",
       "    <tr style=\"text-align: right;\">\n",
       "      <th></th>\n",
       "      <th>BoroCode</th>\n",
       "      <th>BoroName</th>\n",
       "      <th>Shape_Leng</th>\n",
       "      <th>Shape_Area</th>\n",
       "      <th>geometry</th>\n",
       "    </tr>\n",
       "  </thead>\n",
       "  <tbody>\n",
       "    <tr>\n",
       "      <th>0</th>\n",
       "      <td>5</td>\n",
       "      <td>Staten Island</td>\n",
       "      <td>330470.010332</td>\n",
       "      <td>1.623820e+09</td>\n",
       "      <td>MULTIPOLYGON (((970217.022 145643.332, 970227....</td>\n",
       "    </tr>\n",
       "    <tr>\n",
       "      <th>1</th>\n",
       "      <td>4</td>\n",
       "      <td>Queens</td>\n",
       "      <td>896344.047763</td>\n",
       "      <td>3.045213e+09</td>\n",
       "      <td>MULTIPOLYGON (((1029606.077 156073.814, 102957...</td>\n",
       "    </tr>\n",
       "    <tr>\n",
       "      <th>2</th>\n",
       "      <td>3</td>\n",
       "      <td>Brooklyn</td>\n",
       "      <td>741080.523166</td>\n",
       "      <td>1.937479e+09</td>\n",
       "      <td>MULTIPOLYGON (((1021176.479 151374.797, 102100...</td>\n",
       "    </tr>\n",
       "    <tr>\n",
       "      <th>3</th>\n",
       "      <td>1</td>\n",
       "      <td>Manhattan</td>\n",
       "      <td>359299.096471</td>\n",
       "      <td>6.364715e+08</td>\n",
       "      <td>MULTIPOLYGON (((981219.056 188655.316, 980940....</td>\n",
       "    </tr>\n",
       "    <tr>\n",
       "      <th>4</th>\n",
       "      <td>2</td>\n",
       "      <td>Bronx</td>\n",
       "      <td>464392.991824</td>\n",
       "      <td>1.186925e+09</td>\n",
       "      <td>MULTIPOLYGON (((1012821.806 229228.265, 101278...</td>\n",
       "    </tr>\n",
       "  </tbody>\n",
       "</table>\n",
       "</div>"
      ],
      "text/plain": [
       "   BoroCode       BoroName     Shape_Leng    Shape_Area  \\\n",
       "0         5  Staten Island  330470.010332  1.623820e+09   \n",
       "1         4         Queens  896344.047763  3.045213e+09   \n",
       "2         3       Brooklyn  741080.523166  1.937479e+09   \n",
       "3         1      Manhattan  359299.096471  6.364715e+08   \n",
       "4         2          Bronx  464392.991824  1.186925e+09   \n",
       "\n",
       "                                            geometry  \n",
       "0  MULTIPOLYGON (((970217.022 145643.332, 970227....  \n",
       "1  MULTIPOLYGON (((1029606.077 156073.814, 102957...  \n",
       "2  MULTIPOLYGON (((1021176.479 151374.797, 102100...  \n",
       "3  MULTIPOLYGON (((981219.056 188655.316, 980940....  \n",
       "4  MULTIPOLYGON (((1012821.806 229228.265, 101278...  "
      ]
     },
     "execution_count": 11,
     "metadata": {},
     "output_type": "execute_result"
    }
   ],
   "source": [
    "get_gdf(\"foo\")"
   ]
  },
  {
   "cell_type": "code",
   "execution_count": null,
   "id": "6f4683df-fe62-4bf2-98f2-62c81a783326",
   "metadata": {
    "scrolled": true,
    "tags": []
   },
   "outputs": [],
   "source": [
    "get_gdf(\"bar\")"
   ]
  },
  {
   "cell_type": "code",
   "execution_count": null,
   "id": "a2e58998-f969-4eae-9e41-0b922e783ae0",
   "metadata": {
    "scrolled": true,
    "tags": []
   },
   "outputs": [],
   "source": [
    "path=\"cache/joblib/__main__--tmp-ipykernel-3529038902/get_gdf/4652c901c0c669e4db83383b50f91968/output.pkl\"\n",
    "with open(path, \"rb\") as f:\n",
    "    pickle.load(f)"
   ]
  },
  {
   "cell_type": "code",
   "execution_count": null,
   "id": "18619d86-a4fb-4364-8037-2046d428b217",
   "metadata": {
    "scrolled": true,
    "tags": []
   },
   "outputs": [],
   "source": [
    "mem.store_backend"
   ]
  },
  {
   "cell_type": "code",
   "execution_count": null,
   "id": "0570a9aa-0773-4cfc-8b2f-a65b7ce4764d",
   "metadata": {
    "scrolled": true,
    "tags": []
   },
   "outputs": [],
   "source": [
    "mem.reduce_size()"
   ]
  },
  {
   "cell_type": "code",
   "execution_count": null,
   "id": "0d5f6780-4860-44c9-8c16-06c0c7967f2b",
   "metadata": {
    "scrolled": true,
    "tags": []
   },
   "outputs": [],
   "source": [
    "items=mem.store_backend.get_items()\n",
    "itemsj"
   ]
  },
  {
   "cell_type": "code",
   "execution_count": null,
   "id": "56d78dbc-a460-4156-8f12-a59a228583e7",
   "metadata": {
    "scrolled": true,
    "tags": []
   },
   "outputs": [],
   "source": [
    "p = Path(items[0].path) / \"output.pkl\"\n",
    "p.exists()"
   ]
  },
  {
   "cell_type": "code",
   "execution_count": null,
   "id": "e7d211d5-8ed3-4242-a247-2f023cb02b45",
   "metadata": {
    "scrolled": true,
    "tags": []
   },
   "outputs": [],
   "source": [
    "x=type(items[0])\n",
    "x"
   ]
  },
  {
   "cell_type": "code",
   "execution_count": null,
   "id": "197d1c3f-0a7f-48c8-94be-2b22fc0cd513",
   "metadata": {
    "scrolled": true,
    "tags": []
   },
   "outputs": [],
   "source": [
    "%logstart"
   ]
  },
  {
   "cell_type": "code",
   "execution_count": null,
   "id": "f71de6d1-bf57-4c0f-a585-2e4afaf3724e",
   "metadata": {
    "scrolled": true,
    "tags": []
   },
   "outputs": [],
   "source": [
    "!cat ipython_log.py"
   ]
  },
  {
   "cell_type": "code",
   "execution_count": null,
   "id": "fc061935-1f6c-44f2-a213-67f094d535d6",
   "metadata": {
    "scrolled": true,
    "tags": []
   },
   "outputs": [],
   "source": [
    "%pastebin"
   ]
  },
  {
   "cell_type": "code",
   "execution_count": null,
   "id": "0733eec1-b46d-4d19-afef-48f4e92b3d75",
   "metadata": {
    "scrolled": true,
    "tags": []
   },
   "outputs": [],
   "source": [
    "print(\"youhu!\")"
   ]
  },
  {
   "cell_type": "code",
   "execution_count": null,
   "id": "651f7264-908d-458e-92e4-34e32e80c9a8",
   "metadata": {
    "scrolled": true,
    "tags": []
   },
   "outputs": [],
   "source": [
    "with open(p,\"rb\") as f:\n",
    "    pickle.load(f)"
   ]
  },
  {
   "cell_type": "code",
   "execution_count": null,
   "id": "8a55ed90-b0e2-4a2e-86f7-dac2ecbbe111",
   "metadata": {
    "scrolled": true,
    "tags": []
   },
   "outputs": [],
   "source": [
    "sum(i.size for i in items) / 1e6"
   ]
  },
  {
   "cell_type": "code",
   "execution_count": null,
   "id": "b9b8a522-f218-48bf-947f-587e93816d53",
   "metadata": {
    "scrolled": true,
    "tags": []
   },
   "outputs": [],
   "source": [
    "item=items[0]\n",
    "item"
   ]
  },
  {
   "cell_type": "code",
   "execution_count": null,
   "id": "be750bea-0c98-4660-8510-37a39085bed6",
   "metadata": {
    "scrolled": true,
    "tags": []
   },
   "outputs": [],
   "source": [
    "item??"
   ]
  },
  {
   "cell_type": "code",
   "execution_count": null,
   "id": "a5411e22-3e95-453f-89f5-d4ba4611399f",
   "metadata": {
    "scrolled": true,
    "tags": []
   },
   "outputs": [],
   "source": [
    "%whos"
   ]
  },
  {
   "cell_type": "code",
   "execution_count": null,
   "id": "91c89135-3ecd-4e01-84c5-f3613183bc90",
   "metadata": {
    "scrolled": true,
    "tags": []
   },
   "outputs": [],
   "source": [
    "%quickref"
   ]
  },
  {
   "cell_type": "code",
   "execution_count": null,
   "id": "74995d4b-e75e-4932-ad89-b20e83d66d5b",
   "metadata": {
    "scrolled": true,
    "tags": []
   },
   "outputs": [],
   "source": [
    "item?"
   ]
  },
  {
   "cell_type": "code",
   "execution_count": null,
   "id": "88cbcb60-dff1-4b4d-9208-3727a8568c47",
   "metadata": {
    "scrolled": true,
    "tags": []
   },
   "outputs": [],
   "source": [
    "xs=list(range(20))\n",
    "dct={x:x for x in xs}\n",
    "print(dct)"
   ]
  },
  {
   "cell_type": "code",
   "execution_count": null,
   "id": "3cbe478e-1836-4a10-a3b6-413b7df3f48a",
   "metadata": {
    "scrolled": true,
    "tags": []
   },
   "outputs": [],
   "source": [
    "%pinfo2 item"
   ]
  },
  {
   "cell_type": "code",
   "execution_count": null,
   "id": "b3962c1d-c640-46ef-8a66-36e4c6cb6610",
   "metadata": {
    "scrolled": true,
    "tags": []
   },
   "outputs": [],
   "source": [
    "%psource mem.store_backend"
   ]
  }
 ],
 "metadata": {
  "kernelspec": {
   "display_name": "Python 3 (ipykernel)",
   "language": "python",
   "name": "python3"
  },
  "language_info": {
   "codemirror_mode": {
    "name": "ipython",
    "version": 3
   },
   "file_extension": ".py",
   "mimetype": "text/x-python",
   "name": "python",
   "nbconvert_exporter": "python",
   "pygments_lexer": "ipython3",
   "version": "3.10.6"
  }
 },
 "nbformat": 4,
 "nbformat_minor": 5
}
